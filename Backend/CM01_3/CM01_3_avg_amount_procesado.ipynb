{
 "cells": [
  {
   "cell_type": "code",
   "execution_count": null,
   "metadata": {},
   "outputs": [],
   "source": [
    "import pandas as pd\n",
    "\n",
    "data = pd.read_csv(\n",
    "    \"CM01_3_avg_amount.csv\"\n",
    ")  # https://storage.googleapis.com/curated_piat/MINSAIT/CM01_4_internacionales.csv\n",
    "print(data)"
   ]
  },
  {
   "cell_type": "code",
   "execution_count": null,
   "metadata": {},
   "outputs": [],
   "source": [
    "data['country'] = data['country'].str.upper()\n",
    "\n",
    "# Filtrar para quitar las filas con avg_amount igual a 0.0\n",
    "data = data.query('avg_amount != 0.0')"
   ]
  },
  {
   "cell_type": "code",
   "execution_count": null,
   "metadata": {},
   "outputs": [],
   "source": [
    "import pycountry\n",
    "\n",
    "# Función para obtener el nombre del país\n",
    "def get_country_name(alpha_2):\n",
    "    try:\n",
    "        country = pycountry.countries.get(alpha_2=alpha_2)\n",
    "        return country.name if country else None\n",
    "    except Exception as e:\n",
    "        print(f\"Error: {e}\")\n",
    "        return None\n",
    "    \n",
    "# Aplicar la función a la columna 'country' para obtener el nombre del país\n",
    "data['country'] = data['country'].apply(get_country_name)\n",
    "\n",
    "# Imprimir el DataFrame resultante\n",
    "data[['country']]"
   ]
  },
  {
   "cell_type": "code",
   "execution_count": null,
   "metadata": {},
   "outputs": [],
   "source": [
    "# Lista de países deseados\n",
    "paises_deseados = ['Germany', 'France', 'United Kingdom', 'Netherlands', 'Italy', 'Sweden', 'Norway', 'Belgium', 'Denmark', 'Poland', 'Ireland']\n",
    "\n",
    "# Filtrar el DataFrame para quedarse con los países deseados\n",
    "data = data[data['country'].isin(paises_deseados)]\n",
    "\n",
    "# Imprimir el DataFrame resultante\n",
    "data"
   ]
  },
  {
   "cell_type": "code",
   "execution_count": null,
   "metadata": {},
   "outputs": [],
   "source": [
    "# Convierte la columna 'day' a formato de fecha y hora\n",
    "data['day'] = pd.to_datetime(data['day'])\n",
    "\n",
    "# Crea nuevas columnas para el año, mes y día\n",
    "data['year'] = data['day'].dt.year\n",
    "data['month'] = data['day'].dt.month\n",
    "data['day'] = data['day'].dt.day"
   ]
  },
  {
   "cell_type": "code",
   "execution_count": null,
   "metadata": {},
   "outputs": [],
   "source": [
    "from sklearn.preprocessing import LabelEncoder\n",
    "\n",
    "# Crear una instancia de LabelEncoder\n",
    "label_encoder = LabelEncoder()\n",
    "\n",
    "# Ajustar y transformar la columna 'country' a valores numéricos\n",
    "data['country'] = label_encoder.fit_transform(data['country'])\n",
    "\n",
    "# Normalizar los valores numéricos entre 0 y 1\n",
    "data['country'] = data['country'] / \\\n",
    "    (len(label_encoder.classes_) - 1)\n",
    "\n",
    "data"
   ]
  },
  {
   "cell_type": "code",
   "execution_count": null,
   "metadata": {},
   "outputs": [],
   "source": [
    "codigos = pd.read_csv('codigos_postales_municipios.csv')\n",
    "codigos"
   ]
  },
  {
   "cell_type": "code",
   "execution_count": null,
   "metadata": {},
   "outputs": [],
   "source": [
    "# Función para obtener el código postal a partir del nuevo 'cod_distrito'\n",
    "def obtener_codigo_postal(cod_distrito):\n",
    "    return codigos.loc[codigos['codigo_postal'] == cod_distrito, 'municipio_id'].iloc[0]\n",
    "\n",
    "# Aplicar la función para obtener el código postal y añadir la columna 'codigo_postal' al DataFrame original\n",
    "data['cod_distrito'] = data['zipcode'].apply(obtener_codigo_postal)\n",
    "data = data.drop('zipcode', axis=1)\n",
    "\n",
    "data"
   ]
  },
  {
   "cell_type": "code",
   "execution_count": null,
   "metadata": {},
   "outputs": [],
   "source": [
    "# matriz de correlación  \n",
    "\n",
    "import pandas as pd\n",
    "import seaborn as sns\n",
    "import matplotlib.pyplot as plt\n",
    "\n",
    "# Supongamos que 'data' es tu DataFrame\n",
    "# Calcula la matriz de correlación\n",
    "correlation_matrix = data.corr()\n",
    "\n",
    "# Configura el tamaño de la figura\n",
    "plt.figure(figsize=(10, 8))\n",
    "\n",
    "# Crea un mapa de calor con seaborn\n",
    "sns.heatmap(correlation_matrix, annot=True, cmap='coolwarm', fmt=\".2f\", linewidths=.5)\n",
    "\n",
    "# Ajusta las etiquetas de los ejes\n",
    "plt.title('Matriz de Correlación')\n",
    "plt.show()"
   ]
  },
  {
   "cell_type": "code",
   "execution_count": null,
   "metadata": {},
   "outputs": [],
   "source": [
    "data.to_csv('CM01_3_avg_amount_procesado.csv', index=False)"
   ]
  }
 ],
 "metadata": {
  "kernelspec": {
   "display_name": "Python 3",
   "language": "python",
   "name": "python3"
  },
  "language_info": {
   "codemirror_mode": {
    "name": "ipython",
    "version": 3
   },
   "file_extension": ".py",
   "mimetype": "text/x-python",
   "name": "python",
   "nbconvert_exporter": "python",
   "pygments_lexer": "ipython3",
   "version": "3.11.6"
  }
 },
 "nbformat": 4,
 "nbformat_minor": 2
}
