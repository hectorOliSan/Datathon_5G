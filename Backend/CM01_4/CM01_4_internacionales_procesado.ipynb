{
 "cells": [
  {
   "cell_type": "code",
   "execution_count": null,
   "metadata": {},
   "outputs": [],
   "source": [
    "import pandas as pd\n",
    "\n",
    "# Lee el archivo CSV y carga los datos en un DataFrame\n",
    "data = pd.read_csv(\n",
    "    \"CM01_4_internacionales.csv\", encoding=\"latin-1\"\n",
    ")  # https://storage.googleapis.com/curated_piat/MINSAIT/CM01_4_internacionales.csv\n",
    "data = data.dropna()\n",
    "# Muestra las primeras filas del DataFrame\n",
    "data"
   ]
  },
  {
   "cell_type": "code",
   "execution_count": null,
   "metadata": {},
   "outputs": [],
   "source": [
    "# cambiar datos de categoricos a numericos y fechas mas eliminar columnas\n",
    "data['cod_distrito'] = data['cod_distrito'].astype(str).str[:-4]\n",
    "data"
   ]
  },
  {
   "cell_type": "code",
   "execution_count": null,
   "metadata": {},
   "outputs": [],
   "source": [
    "data = data.drop(columns=['periodo'])\n",
    "data = data.drop(columns=['desc_distrito'])\n",
    "data = data.drop(columns=['rango_horario'])\n",
    "\n",
    "# Convierte la columna 'day' a formato de fecha y hora\n",
    "data['fin_periodo'] = pd.to_datetime(data['fin_periodo'])\n",
    "data['inicio_periodo'] = pd.to_datetime(data['inicio_periodo'])\n",
    "\n",
    "# Crea nuevas columnas para el año, mes y día\n",
    "data['fin_year'] = data['fin_periodo'].dt.year\n",
    "data['fin_month'] = data['fin_periodo'].dt.month\n",
    "data['fin_day'] = data['fin_periodo'].dt.day\n",
    "\n",
    "# Crea nuevas columnas para el año, mes y día\n",
    "data['inicio_year'] = data['inicio_periodo'].dt.year\n",
    "data['inicio_month'] = data['inicio_periodo'].dt.month\n",
    "data['inicio_day'] = data['inicio_periodo'].dt.day\n",
    "\n",
    "data = data.drop(columns=['fin_periodo'])\n",
    "data = data.drop(columns=['inicio_periodo'])\n",
    "\n",
    "# Quitar guiones y convertir a enteros las columnas 'fin_periodo' e 'inicio_periodo'\n",
    "# data['fin_periodo'] = data['fin_periodo'].str.replace('-', '').astype(int)\n",
    "# data['inicio_periodo'] = data['inicio_periodo'].str.replace('-', '').astype(int)\n",
    "mapping_tipo_visitante = {'Turista': 1, 'Excursionista': 0}  # Puedes ajustar esto según tu lógica\n",
    "mapping_tipo_dia = {'Fin Semana': 1, 'Laborable': 0, 'Fin de semana':1}  # Puedes ajustar esto según tu lógica\n",
    "\n",
    "# Aplicar el mapeo a las columnas\n",
    "data['tipo_visitante'] = data['tipo_visitante'].map(mapping_tipo_visitante)\n",
    "data['tipo_dia'] = data['tipo_dia'].map(mapping_tipo_dia)\n",
    "\n",
    "# Convertir la columna 'visitantes' a enteros\n",
    "data['visitantes'] = data['visitantes'].astype(int)\n",
    "data['cod_distrito'] = data['cod_distrito'].astype(int)\n",
    "\n",
    "# Imprimir el DataFrame actualizado\n",
    "data"
   ]
  },
  {
   "cell_type": "code",
   "execution_count": null,
   "metadata": {},
   "outputs": [],
   "source": [
    "# limpiar datos : 10 paises\n",
    "paises_deseados = ['Germany', 'France', 'United Kingdom', 'Netherlands', 'Italy', 'Sweden', 'Norway', 'Belgium', 'Denmark', 'Poland', 'Ireland']\n",
    "data = data[data['nombre_pais'].isin(paises_deseados)]\n",
    "data"
   ]
  },
  {
   "cell_type": "code",
   "execution_count": null,
   "metadata": {},
   "outputs": [],
   "source": [
    "from sklearn.preprocessing import LabelEncoder\n",
    "\n",
    "# Crear una instancia de LabelEncoder\n",
    "label_encoder = LabelEncoder()\n",
    "\n",
    "# Ajustar y transformar la columna 'country' a valores numéricos\n",
    "data['nombre_pais'] = label_encoder.fit_transform(data['nombre_pais'])\n",
    "\n",
    "# Normalizar los valores numéricos entre 0 y 1\n",
    "data['nombre_pais'] = data['nombre_pais'] / \\\n",
    "    (len(label_encoder.classes_) - 1)\n",
    "\n",
    "# Imprimir el DataFrame resultante\n",
    "data"
   ]
  },
  {
   "cell_type": "code",
   "execution_count": null,
   "metadata": {},
   "outputs": [],
   "source": [
    "# matriz de correlación  \n",
    "\n",
    "import pandas as pd\n",
    "import seaborn as sns\n",
    "import matplotlib.pyplot as plt\n",
    "\n",
    "# Supongamos que 'data' es tu DataFrame\n",
    "# Calcula la matriz de correlación\n",
    "correlation_matrix = data.corr()\n",
    "\n",
    "# Configura el tamaño de la figura\n",
    "plt.figure(figsize=(10, 8))\n",
    "\n",
    "# Crea un mapa de calor con seaborn\n",
    "sns.heatmap(correlation_matrix, annot=True, cmap='coolwarm', fmt=\".2f\", linewidths=.5)\n",
    "\n",
    "# Ajusta las etiquetas de los ejes\n",
    "plt.title('Matriz de Correlación')\n",
    "plt.show()\n"
   ]
  },
  {
   "cell_type": "code",
   "execution_count": null,
   "metadata": {},
   "outputs": [],
   "source": [
    "data.to_csv('CM01_4_internacionales_procesado.csv', index=False)"
   ]
  }
 ],
 "metadata": {
  "kernelspec": {
   "display_name": "Python 3",
   "language": "python",
   "name": "python3"
  },
  "language_info": {
   "codemirror_mode": {
    "name": "ipython",
    "version": 3
   },
   "file_extension": ".py",
   "mimetype": "text/x-python",
   "name": "python",
   "nbconvert_exporter": "python",
   "pygments_lexer": "ipython3",
   "version": "3.11.6"
  }
 },
 "nbformat": 4,
 "nbformat_minor": 2
}
